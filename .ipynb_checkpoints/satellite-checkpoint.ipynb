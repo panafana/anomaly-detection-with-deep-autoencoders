{
 "cells": [
  {
   "cell_type": "code",
   "execution_count": 1,
   "metadata": {},
   "outputs": [
    {
     "name": "stderr",
     "output_type": "stream",
     "text": [
      "Using TensorFlow backend.\n",
      "C:\\ProgramData\\Anaconda3\\lib\\site-packages\\sklearn\\utils\\deprecation.py:144: FutureWarning: The sklearn.utils.testing module is  deprecated in version 0.22 and will be removed in version 0.24. The corresponding classes / functions should instead be imported from sklearn.utils. Anything that cannot be imported from sklearn.utils is now part of the private API.\n",
      "  warnings.warn(message, FutureWarning)\n"
     ]
    }
   ],
   "source": [
    "\n",
    "import ipympl\n",
    "import numpy as np\n",
    "import pandas as pd\n",
    "from pyod.models.knn import KNN\n",
    "from pyod.models.auto_encoder import AutoEncoder\n",
    "from pyod.utils.data import generate_data\n",
    "from pyod.utils.data import evaluate_print\n",
    "from pyod.utils.example import visualize\n",
    "from pyod.models.combination import aom, moa, average, maximization, median, majority_vote \n",
    "import scipy.io\n",
    "#import matplotlib\n",
    "#matplotlib.use('nbagg')\n",
    "from sklearn.preprocessing import StandardScaler\n",
    "from sklearn.decomposition import PCA\n",
    "import matplotlib.pyplot as plt\n",
    "\n",
    "\n",
    "\n",
    "from sklearn.model_selection import train_test_split\n",
    "from pyod.utils.utility import standardizer\n",
    "from keras.callbacks.callbacks import EarlyStopping\n",
    "from tensorflow.python.keras.layers import Input, Dense, Conv2D, MaxPooling2D, UpSampling2D, Dropout\n",
    "from tensorflow.python.keras.models import Model\n",
    "from mpl_toolkits.mplot3d import axes3d\n",
    "from mpl_toolkits.mplot3d import Axes3D\n",
    " "
   ]
  },
  {
   "cell_type": "code",
   "execution_count": 2,
   "metadata": {},
   "outputs": [],
   "source": [
    "#mat = scipy.io.loadmat('cardio.mat')\n",
    "mat = scipy.io.loadmat('satellite.mat')\n",
    "#mat = scipy.io.loadmat('ionosphere.mat')\n"
   ]
  },
  {
   "cell_type": "code",
   "execution_count": 3,
   "metadata": {},
   "outputs": [],
   "source": [
    "epochs = 50"
   ]
  },
  {
   "cell_type": "code",
   "execution_count": 4,
   "metadata": {},
   "outputs": [],
   "source": [
    "cb_earlystop = EarlyStopping(monitor='val_loss', min_delta=0, patience=0, verbose=0,\n",
    "mode='auto', baseline=None, restore_best_weights=False)\n",
    "#pyod_model.fit(scaler, callbacks=[cb_earlystop])"
   ]
  },
  {
   "cell_type": "code",
   "execution_count": 5,
   "metadata": {},
   "outputs": [
    {
     "name": "stdout",
     "output_type": "stream",
     "text": [
      "(6435, 36)\n",
      "(6435,)\n"
     ]
    }
   ],
   "source": [
    "Xtemp = mat['X']\n",
    "ytemp = mat['y']\n",
    "X = np.array(Xtemp)\n",
    "y = np.array(ytemp)\n",
    "print(X.shape)\n",
    "y = y.reshape(X.shape[0],)\n",
    "print(y.shape)"
   ]
  },
  {
   "cell_type": "code",
   "execution_count": 6,
   "metadata": {},
   "outputs": [
    {
     "name": "stdout",
     "output_type": "stream",
     "text": [
      "2036\n",
      "0.3163947163947164\n"
     ]
    }
   ],
   "source": [
    "outliers = 0\n",
    "for i in range(y.shape[0]):\n",
    "    if(y[i]==1.0):\n",
    "        outliers+=1;\n",
    "        \n",
    "print(outliers)\n",
    "contam = outliers/y.shape[0]\n",
    "print(contam)"
   ]
  },
  {
   "cell_type": "code",
   "execution_count": null,
   "metadata": {},
   "outputs": [],
   "source": []
  },
  {
   "cell_type": "code",
   "execution_count": null,
   "metadata": {},
   "outputs": [],
   "source": []
  },
  {
   "cell_type": "code",
   "execution_count": null,
   "metadata": {},
   "outputs": [],
   "source": []
  },
  {
   "cell_type": "code",
   "execution_count": 7,
   "metadata": {},
   "outputs": [],
   "source": [
    "x_train, x_test, y_train, y_test = train_test_split(X, y, test_size=0.40, random_state=20)\n",
    "x_train2, x_test2, y_train2, y_test2 = train_test_split(X, y, test_size=0.40, random_state=6)\n",
    "x_train3, x_test3, y_train3, y_test3 = train_test_split(X, y, test_size=0.40, random_state=7)"
   ]
  },
  {
   "cell_type": "code",
   "execution_count": 8,
   "metadata": {},
   "outputs": [
    {
     "name": "stdout",
     "output_type": "stream",
     "text": [
      "1216\n",
      "0.31494431494431496\n"
     ]
    }
   ],
   "source": [
    "outliers = 0\n",
    "for i in range(y_train.shape[0]):\n",
    "    if(y_train[i]==1.0):\n",
    "        outliers+=1;\n",
    "        \n",
    "print(outliers)\n",
    "contam = outliers/y_train.shape[0]\n",
    "print(contam)"
   ]
  },
  {
   "cell_type": "code",
   "execution_count": 9,
   "metadata": {},
   "outputs": [
    {
     "name": "stdout",
     "output_type": "stream",
     "text": [
      "820\n",
      "0.3185703185703186\n"
     ]
    }
   ],
   "source": [
    "outliers1 = 0\n",
    "for i in range(y_test.shape[0]):\n",
    "    if(y_test[i]==1.0):\n",
    "        outliers1+=1;\n",
    "        \n",
    "print(outliers1)\n",
    "contam = outliers1/y_test.shape[0]\n",
    "print(contam)"
   ]
  },
  {
   "cell_type": "code",
   "execution_count": 10,
   "metadata": {},
   "outputs": [
    {
     "name": "stdout",
     "output_type": "stream",
     "text": [
      "816\n",
      "0.317016317016317\n"
     ]
    }
   ],
   "source": [
    "outliers1 = 0\n",
    "for i in range(y_test3.shape[0]):\n",
    "    if(y_test3[i]==1.0):\n",
    "        outliers1+=1;\n",
    "        \n",
    "print(outliers1)\n",
    "contam = outliers1/y_test3.shape[0]\n",
    "print(contam)"
   ]
  },
  {
   "cell_type": "code",
   "execution_count": 11,
   "metadata": {},
   "outputs": [
    {
     "data": {
      "text/plain": [
       "array([ 70, 113, 122, 103,  70, 113, 122, 103,  66, 109, 122,  96,  67,\n",
       "       112, 130,  98,  63, 112, 124,  98,  67, 108, 119,  98,  63, 111,\n",
       "       119,  97,  67, 111, 124,  97,  67, 106, 124,  94], dtype=uint8)"
      ]
     },
     "execution_count": 11,
     "metadata": {},
     "output_type": "execute_result"
    }
   ],
   "source": [
    "x_train[0]"
   ]
  },
  {
   "cell_type": "code",
   "execution_count": 12,
   "metadata": {},
   "outputs": [
    {
     "name": "stdout",
     "output_type": "stream",
     "text": [
      "(2574, 36)\n",
      "(2574,)\n",
      "(3861, 36)\n",
      "(3861,)\n"
     ]
    }
   ],
   "source": [
    "x_train = pd.DataFrame(x_train)\n",
    "x_test = pd.DataFrame(x_test)\n",
    "x_train = StandardScaler().fit_transform(x_train)\n",
    "x_train = pd.DataFrame(x_train)\n",
    "x_test = StandardScaler().fit_transform(x_test)\n",
    "x_test = pd.DataFrame(x_test)\n",
    "\n",
    "x_train2 = pd.DataFrame(x_train2)\n",
    "x_test2 = pd.DataFrame(x_test2)\n",
    "x_train2 = StandardScaler().fit_transform(x_train2)\n",
    "x_train2 = pd.DataFrame(x_train2)\n",
    "x_test2 = StandardScaler().fit_transform(x_test2)\n",
    "x_test2 = pd.DataFrame(x_test2)\n",
    "\n",
    "x_train3 = pd.DataFrame(x_train3)\n",
    "x_test3 = pd.DataFrame(x_test3)\n",
    "x_train3 = StandardScaler().fit_transform(x_train3)\n",
    "x_train3 = pd.DataFrame(x_train3)\n",
    "x_test3 = StandardScaler().fit_transform(x_test3)\n",
    "x_test3 = pd.DataFrame(x_test3)\n",
    "print(x_test.shape)\n",
    "print(y_test.shape)\n",
    "print(x_train.shape)\n",
    "print(y_train.shape)\n"
   ]
  },
  {
   "cell_type": "code",
   "execution_count": 13,
   "metadata": {},
   "outputs": [
    {
     "data": {
      "text/plain": [
       "0       0.047180\n",
       "1      -0.465742\n",
       "2      -1.051938\n",
       "3       0.120454\n",
       "4      -0.758840\n",
       "          ...   \n",
       "3856    0.120454\n",
       "3857   -1.198487\n",
       "3858   -0.465742\n",
       "3859   -0.392468\n",
       "3860   -0.465742\n",
       "Name: 0, Length: 3861, dtype: float64"
      ]
     },
     "execution_count": 13,
     "metadata": {},
     "output_type": "execute_result"
    }
   ],
   "source": [
    "x_train[0]"
   ]
  },
  {
   "cell_type": "code",
   "execution_count": 14,
   "metadata": {},
   "outputs": [],
   "source": [
    "x_train_full = x_train.copy()\n",
    "x_train_full['y']=y_train\n",
    "x_train_full2 = x_train2.copy()\n",
    "x_train_full2['y']=y_train2\n",
    "x_train_full3 = x_train3.copy()\n",
    "x_train_full3['y']=y_train3"
   ]
  },
  {
   "cell_type": "code",
   "execution_count": 15,
   "metadata": {},
   "outputs": [],
   "source": [
    "x_test_full = x_test.copy()\n",
    "x_test_full['y']=y_test\n",
    "x_test_full2 = x_test2.copy()\n",
    "x_test_full2['y']=y_test2\n",
    "x_test_full3 = x_test3.copy()\n",
    "x_test_full3['y']=y_test3\n",
    "#sns.scatterplot(x=0, y=1, hue='y', data=x_test_full);"
   ]
  },
  {
   "cell_type": "code",
   "execution_count": 16,
   "metadata": {},
   "outputs": [
    {
     "data": {
      "text/plain": [
       "(3861, 37)"
      ]
     },
     "execution_count": 16,
     "metadata": {},
     "output_type": "execute_result"
    }
   ],
   "source": [
    "x_train_full.shape\n"
   ]
  },
  {
   "cell_type": "code",
   "execution_count": 17,
   "metadata": {
    "scrolled": false
   },
   "outputs": [
    {
     "name": "stderr",
     "output_type": "stream",
     "text": [
      "No handles with labels found to put in legend.\n"
     ]
    },
    {
     "data": {
      "text/plain": [
       "Text(0, 0.5, 'y')"
      ]
     },
     "execution_count": 17,
     "metadata": {},
     "output_type": "execute_result"
    },
    {
     "data": {
      "image/png": "[encoded data removed]",
      "text/plain": [
       "<Figure size 432x288 with 1 Axes>"
      ]
     },
     "metadata": {
      "needs_background": "light"
     },
     "output_type": "display_data"
    }
   ],
   "source": [
    "\n",
    "\n",
    "pca = PCA(2)\n",
    "x_pca = pca.fit_transform(x_train)\n",
    "x_pca = pd.DataFrame(x_pca)\n",
    "x_pca.columns=['PC1','PC2']\n",
    "\n",
    "# Plot\n",
    "fig11, ax11 = plt.subplots()\n",
    "\n",
    "\n",
    "\n",
    "ax11.scatter(x_pca['PC1'], x_pca['PC2'], c=y_train, alpha=0.8)\n",
    "ax11.legend()\n",
    "ax11.set_xlabel('x')\n",
    "ax11.set_ylabel('y')\n",
    "\n",
    "\n"
   ]
  },
  {
   "cell_type": "code",
   "execution_count": null,
   "metadata": {},
   "outputs": [],
   "source": []
  },
  {
   "cell_type": "code",
   "execution_count": 18,
   "metadata": {},
   "outputs": [
    {
     "name": "stdout",
     "output_type": "stream",
     "text": [
      "Model: \"sequential_1\"\n",
      "_________________________________________________________________\n",
      "Layer (type)                 Output Shape              Param #   \n",
      "=================================================================\n",
      "dense_1 (Dense)              (None, 36)                1332      \n",
      "_________________________________________________________________\n",
      "dropout_1 (Dropout)          (None, 36)                0         \n",
      "_________________________________________________________________\n",
      "dense_2 (Dense)              (None, 36)                1332      \n",
      "_________________________________________________________________\n",
      "dropout_2 (Dropout)          (None, 36)                0         \n",
      "_________________________________________________________________\n",
      "dense_3 (Dense)              (None, 20)                740       \n",
      "_________________________________________________________________\n",
      "dropout_3 (Dropout)          (None, 20)                0         \n",
      "_________________________________________________________________\n",
      "dense_4 (Dense)              (None, 10)                210       \n",
      "_________________________________________________________________\n",
      "dropout_4 (Dropout)          (None, 10)                0         \n",
      "_________________________________________________________________\n",
      "dense_5 (Dense)              (None, 2)                 22        \n",
      "_________________________________________________________________\n",
      "dropout_5 (Dropout)          (None, 2)                 0         \n",
      "_________________________________________________________________\n",
      "dense_6 (Dense)              (None, 10)                30        \n",
      "_________________________________________________________________\n",
      "dropout_6 (Dropout)          (None, 10)                0         \n",
      "_________________________________________________________________\n",
      "dense_7 (Dense)              (None, 20)                220       \n",
      "_________________________________________________________________\n",
      "dropout_7 (Dropout)          (None, 20)                0         \n",
      "_________________________________________________________________\n",
      "dense_8 (Dense)              (None, 36)                756       \n",
      "=================================================================\n",
      "Total params: 4,642\n",
      "Trainable params: 4,642\n",
      "Non-trainable params: 0\n",
      "_________________________________________________________________\n",
      "None\n",
      "Train on 3474 samples, validate on 387 samples\n",
      "Epoch 1/100\n",
      "3474/3474 [==============================] - 1s 314us/step - loss: 52.0419 - val_loss: 26.0231\n",
      "Epoch 2/100\n",
      "3474/3474 [==============================] - 0s 133us/step - loss: 17.7957 - val_loss: 12.2691\n",
      "Epoch 3/100\n",
      "3474/3474 [==============================] - 0s 134us/step - loss: 10.2156 - val_loss: 8.3054\n",
      "Epoch 4/100\n",
      "3474/3474 [==============================] - 0s 133us/step - loss: 7.4156 - val_loss: 6.5244\n",
      "Epoch 5/100\n",
      "3474/3474 [==============================] - 0s 131us/step - loss: 6.0630 - val_loss: 5.5111\n",
      "Epoch 6/100\n",
      "3474/3474 [==============================] - 0s 135us/step - loss: 5.2525 - val_loss: 4.8544\n",
      "Epoch 7/100\n",
      "3474/3474 [==============================] - 0s 133us/step - loss: 4.6907 - val_loss: 4.3866\n",
      "Epoch 8/100\n",
      "3474/3474 [==============================] - 0s 130us/step - loss: 4.2762 - val_loss: 4.0297\n",
      "Epoch 9/100\n",
      "3474/3474 [==============================] - 0s 133us/step - loss: 3.9578 - val_loss: 3.7444\n",
      "Epoch 10/100\n",
      "3474/3474 [==============================] - 0s 136us/step - loss: 3.6786 - val_loss: 3.5109\n",
      "Epoch 11/100\n",
      "3474/3474 [==============================] - 0s 134us/step - loss: 3.4629 - val_loss: 3.3151\n",
      "Epoch 12/100\n",
      "3474/3474 [==============================] - 0s 132us/step - loss: 3.2836 - val_loss: 3.1472\n",
      "Epoch 13/100\n",
      "3474/3474 [==============================] - 0s 131us/step - loss: 3.1206 - val_loss: 3.0024\n",
      "Epoch 14/100\n",
      "3474/3474 [==============================] - 0s 136us/step - loss: 2.9953 - val_loss: 2.8764\n",
      "Epoch 15/100\n",
      "3474/3474 [==============================] - 0s 135us/step - loss: 2.8523 - val_loss: 2.7623\n",
      "Epoch 16/100\n",
      "3474/3474 [==============================] - 0s 137us/step - loss: 2.7499 - val_loss: 2.6606\n",
      "Epoch 17/100\n",
      "3474/3474 [==============================] - 0s 134us/step - loss: 2.6599 - val_loss: 2.5695\n",
      "Epoch 18/100\n",
      "3474/3474 [==============================] - 0s 135us/step - loss: 2.5732 - val_loss: 2.4872\n",
      "Epoch 19/100\n",
      "3474/3474 [==============================] - 0s 132us/step - loss: 2.4877 - val_loss: 2.4108\n",
      "Epoch 20/100\n",
      "3474/3474 [==============================] - 0s 131us/step - loss: 2.4014 - val_loss: 2.3410\n",
      "Epoch 21/100\n",
      "3474/3474 [==============================] - 0s 133us/step - loss: 2.3387 - val_loss: 2.2791\n",
      "Epoch 22/100\n",
      "3474/3474 [==============================] - 1s 146us/step - loss: 2.2762 - val_loss: 2.2193\n",
      "Epoch 23/100\n",
      "3474/3474 [==============================] - 0s 132us/step - loss: 2.2201 - val_loss: 2.1636\n",
      "Epoch 24/100\n",
      "3474/3474 [==============================] - 0s 135us/step - loss: 2.1601 - val_loss: 2.1111\n",
      "Epoch 25/100\n",
      "3474/3474 [==============================] - 0s 131us/step - loss: 2.1065 - val_loss: 2.0632\n",
      "Epoch 26/100\n",
      "3474/3474 [==============================] - 0s 136us/step - loss: 2.0584 - val_loss: 2.0185\n",
      "Epoch 27/100\n",
      "3474/3474 [==============================] - 0s 129us/step - loss: 2.0141 - val_loss: 1.9764\n",
      "Epoch 28/100\n",
      "3474/3474 [==============================] - 0s 133us/step - loss: 1.9627 - val_loss: 1.9352\n",
      "Epoch 29/100\n",
      "3474/3474 [==============================] - 1s 154us/step - loss: 1.9352 - val_loss: 1.9002\n",
      "Epoch 30/100\n",
      "3474/3474 [==============================] - 0s 134us/step - loss: 1.8851 - val_loss: 1.8620\n",
      "Epoch 31/100\n",
      "3474/3474 [==============================] - 0s 138us/step - loss: 1.8439 - val_loss: 1.8292\n",
      "Epoch 32/100\n",
      "3474/3474 [==============================] - 0s 139us/step - loss: 1.8115 - val_loss: 1.7965\n",
      "Epoch 33/100\n",
      "3474/3474 [==============================] - 0s 136us/step - loss: 1.7858 - val_loss: 1.7665\n",
      "Epoch 34/100\n",
      "3474/3474 [==============================] - 0s 134us/step - loss: 1.7458 - val_loss: 1.7361\n",
      "Epoch 35/100\n",
      "3474/3474 [==============================] - 0s 135us/step - loss: 1.7166 - val_loss: 1.7090\n",
      "Epoch 36/100\n",
      "3474/3474 [==============================] - 0s 132us/step - loss: 1.6951 - val_loss: 1.6820\n",
      "Epoch 37/100\n",
      "3474/3474 [==============================] - 0s 134us/step - loss: 1.6605 - val_loss: 1.6561\n",
      "Epoch 38/100\n",
      "3474/3474 [==============================] - 0s 135us/step - loss: 1.6336 - val_loss: 1.6327\n",
      "Epoch 39/100\n",
      "3474/3474 [==============================] - 0s 135us/step - loss: 1.6080 - val_loss: 1.6088\n",
      "Epoch 40/100\n",
      "3474/3474 [==============================] - 0s 133us/step - loss: 1.5852 - val_loss: 1.5866\n",
      "Epoch 41/100\n",
      "3474/3474 [==============================] - 0s 136us/step - loss: 1.5618 - val_loss: 1.5655\n",
      "Epoch 42/100\n",
      "3474/3474 [==============================] - 0s 137us/step - loss: 1.5419 - val_loss: 1.5456\n",
      "Epoch 43/100\n",
      "3474/3474 [==============================] - 0s 136us/step - loss: 1.5168 - val_loss: 1.5255\n",
      "Epoch 44/100\n",
      "3474/3474 [==============================] - 0s 134us/step - loss: 1.4972 - val_loss: 1.5066\n",
      "Epoch 45/100\n",
      "3474/3474 [==============================] - 0s 132us/step - loss: 1.4761 - val_loss: 1.4875\n",
      "Epoch 46/100\n",
      "3474/3474 [==============================] - 0s 132us/step - loss: 1.4569 - val_loss: 1.4706\n",
      "Epoch 47/100\n",
      "3474/3474 [==============================] - 0s 133us/step - loss: 1.4376 - val_loss: 1.4539\n",
      "Epoch 48/100\n",
      "3474/3474 [==============================] - 0s 137us/step - loss: 1.4185 - val_loss: 1.4376\n",
      "Epoch 49/100\n",
      "3474/3474 [==============================] - 0s 135us/step - loss: 1.4005 - val_loss: 1.4221\n",
      "Epoch 50/100\n",
      "3474/3474 [==============================] - 0s 133us/step - loss: 1.3880 - val_loss: 1.4069\n",
      "Epoch 51/100\n",
      "3474/3474 [==============================] - 0s 135us/step - loss: 1.3702 - val_loss: 1.3924\n",
      "Epoch 52/100\n",
      "3474/3474 [==============================] - 0s 134us/step - loss: 1.3552 - val_loss: 1.3787\n",
      "Epoch 53/100\n",
      "3474/3474 [==============================] - 1s 145us/step - loss: 1.3401 - val_loss: 1.3648\n",
      "Epoch 54/100\n",
      "3474/3474 [==============================] - 0s 135us/step - loss: 1.3256 - val_loss: 1.3520\n",
      "Epoch 55/100\n",
      "3474/3474 [==============================] - 0s 133us/step - loss: 1.3119 - val_loss: 1.3390\n"
     ]
    },
    {
     "name": "stdout",
     "output_type": "stream",
     "text": [
      "Epoch 56/100\n",
      "3474/3474 [==============================] - 0s 135us/step - loss: 1.2975 - val_loss: 1.3272\n",
      "Epoch 57/100\n",
      "3474/3474 [==============================] - 0s 133us/step - loss: 1.2843 - val_loss: 1.3161\n",
      "Epoch 58/100\n",
      "3474/3474 [==============================] - 0s 134us/step - loss: 1.2752 - val_loss: 1.3044\n",
      "Epoch 59/100\n",
      "3474/3474 [==============================] - 0s 132us/step - loss: 1.2625 - val_loss: 1.2934\n",
      "Epoch 60/100\n",
      "3474/3474 [==============================] - 0s 135us/step - loss: 1.2498 - val_loss: 1.2830\n",
      "Epoch 61/100\n",
      "3474/3474 [==============================] - 0s 134us/step - loss: 1.2402 - val_loss: 1.2729\n",
      "Epoch 62/100\n",
      "3474/3474 [==============================] - 0s 133us/step - loss: 1.2283 - val_loss: 1.2633\n",
      "Epoch 63/100\n",
      "3474/3474 [==============================] - 0s 138us/step - loss: 1.2181 - val_loss: 1.2539\n",
      "Epoch 64/100\n",
      "3474/3474 [==============================] - 1s 146us/step - loss: 1.2093 - val_loss: 1.2448\n",
      "Epoch 65/100\n",
      "3474/3474 [==============================] - 0s 143us/step - loss: 1.1995 - val_loss: 1.2363\n",
      "Epoch 66/100\n",
      "3474/3474 [==============================] - 0s 137us/step - loss: 1.1905 - val_loss: 1.2277\n",
      "Epoch 67/100\n",
      "3474/3474 [==============================] - 0s 133us/step - loss: 1.1810 - val_loss: 1.2197\n",
      "Epoch 68/100\n",
      "3474/3474 [==============================] - 0s 129us/step - loss: 1.1723 - val_loss: 1.2119\n",
      "Epoch 69/100\n",
      "3474/3474 [==============================] - 0s 132us/step - loss: 1.1633 - val_loss: 1.2044\n",
      "Epoch 70/100\n",
      "3474/3474 [==============================] - 0s 131us/step - loss: 1.1558 - val_loss: 1.1973\n",
      "Epoch 71/100\n",
      "3474/3474 [==============================] - 0s 129us/step - loss: 1.1493 - val_loss: 1.1904\n",
      "Epoch 72/100\n",
      "3474/3474 [==============================] - 0s 133us/step - loss: 1.1420 - val_loss: 1.1837\n",
      "Epoch 73/100\n",
      "3474/3474 [==============================] - 0s 130us/step - loss: 1.1345 - val_loss: 1.1772\n",
      "Epoch 74/100\n",
      "3474/3474 [==============================] - 0s 133us/step - loss: 1.1290 - val_loss: 1.1710\n",
      "Epoch 75/100\n",
      "3474/3474 [==============================] - 0s 131us/step - loss: 1.1219 - val_loss: 1.1651\n",
      "Epoch 76/100\n",
      "3474/3474 [==============================] - 0s 133us/step - loss: 1.1158 - val_loss: 1.1592\n",
      "Epoch 77/100\n",
      "3474/3474 [==============================] - 0s 130us/step - loss: 1.1099 - val_loss: 1.1539\n",
      "Epoch 78/100\n",
      "3474/3474 [==============================] - 0s 130us/step - loss: 1.1042 - val_loss: 1.1486\n",
      "Epoch 79/100\n",
      "3474/3474 [==============================] - 0s 135us/step - loss: 1.0988 - val_loss: 1.1435\n",
      "Epoch 80/100\n",
      "3474/3474 [==============================] - 0s 133us/step - loss: 1.0934 - val_loss: 1.1386\n",
      "Epoch 81/100\n",
      "3474/3474 [==============================] - 0s 131us/step - loss: 1.0880 - val_loss: 1.1339\n",
      "Epoch 82/100\n",
      "3474/3474 [==============================] - 0s 132us/step - loss: 1.0828 - val_loss: 1.1295\n",
      "Epoch 83/100\n",
      "3474/3474 [==============================] - 0s 133us/step - loss: 1.0790 - val_loss: 1.1253\n",
      "Epoch 84/100\n",
      "3474/3474 [==============================] - 0s 127us/step - loss: 1.0742 - val_loss: 1.1211\n",
      "Epoch 85/100\n",
      "3474/3474 [==============================] - 0s 136us/step - loss: 1.0702 - val_loss: 1.1172\n",
      "Epoch 86/100\n",
      "3474/3474 [==============================] - 0s 134us/step - loss: 1.0660 - val_loss: 1.1134\n",
      "Epoch 87/100\n",
      "3474/3474 [==============================] - 0s 136us/step - loss: 1.0624 - val_loss: 1.1099\n",
      "Epoch 88/100\n",
      "3474/3474 [==============================] - 0s 144us/step - loss: 1.0587 - val_loss: 1.1064\n",
      "Epoch 89/100\n",
      "3474/3474 [==============================] - 0s 138us/step - loss: 1.0553 - val_loss: 1.1031\n",
      "Epoch 90/100\n",
      "3474/3474 [==============================] - 0s 139us/step - loss: 1.0519 - val_loss: 1.1000\n",
      "Epoch 91/100\n",
      "3474/3474 [==============================] - 0s 137us/step - loss: 1.0490 - val_loss: 1.0970\n",
      "Epoch 92/100\n",
      "3474/3474 [==============================] - 0s 136us/step - loss: 1.0459 - val_loss: 1.0941\n",
      "Epoch 93/100\n",
      "3474/3474 [==============================] - 0s 140us/step - loss: 1.0427 - val_loss: 1.0914\n",
      "Epoch 94/100\n",
      "3474/3474 [==============================] - 0s 129us/step - loss: 1.0401 - val_loss: 1.0889\n",
      "Epoch 95/100\n",
      "3474/3474 [==============================] - 0s 131us/step - loss: 1.0373 - val_loss: 1.0864\n",
      "Epoch 96/100\n",
      "3474/3474 [==============================] - 0s 131us/step - loss: 1.0350 - val_loss: 1.0841\n",
      "Epoch 97/100\n",
      "3474/3474 [==============================] - 0s 131us/step - loss: 1.0327 - val_loss: 1.0819\n",
      "Epoch 98/100\n",
      "3474/3474 [==============================] - 0s 129us/step - loss: 1.0303 - val_loss: 1.0797\n",
      "Epoch 99/100\n",
      "3474/3474 [==============================] - 0s 143us/step - loss: 1.0283 - val_loss: 1.0778\n",
      "Epoch 100/100\n",
      "3474/3474 [==============================] - 0s 130us/step - loss: 1.0262 - val_loss: 1.0759\n"
     ]
    },
    {
     "data": {
      "text/plain": [
       "AutoEncoder(batch_size=32, contamination=0.317016317016317, dropout_rate=0.2,\n",
       "      epochs=100, hidden_activation='relu',\n",
       "      hidden_neurons=[20, 10, 2, 10, 20], l2_regularizer=0.1,\n",
       "      loss=<function mean_squared_error at 0x00000267E4FE21F8>,\n",
       "      optimizer='adam', output_activation='sigmoid', preprocessing=True,\n",
       "      random_state=None, validation_size=0.1, verbose=1)"
      ]
     },
     "execution_count": 18,
     "metadata": {},
     "output_type": "execute_result"
    }
   ],
   "source": [
    "clf1 = AutoEncoder(hidden_neurons =[ 20, 10, 2,  10, 20]\n",
    "                   ,contamination = contam\n",
    "                   ,epochs=epochs\n",
    "                  )\n",
    "\n",
    "clf1.fit(x_train)\n"
   ]
  },
  {
   "cell_type": "code",
   "execution_count": 19,
   "metadata": {},
   "outputs": [
    {
     "data": {
      "text/plain": [
       "(2574, 36)"
      ]
     },
     "execution_count": 19,
     "metadata": {},
     "output_type": "execute_result"
    }
   ],
   "source": [
    "x_test.shape"
   ]
  },
  {
   "cell_type": "code",
   "execution_count": 20,
   "metadata": {},
   "outputs": [
    {
     "data": {
      "image/png": "[encoded data removed]",
      "text/plain": [
       "<Figure size 432x288 with 1 Axes>"
      ]
     },
     "metadata": {
      "needs_background": "light"
     },
     "output_type": "display_data"
    }
   ],
   "source": [
    "\n",
    "\n",
    "# Get the outlier scores for the train data\n",
    "y_train_scores = clf1.decision_scores_  \n",
    "\n",
    "# Predict the anomaly scores\n",
    "y_train_pred = clf1.labels_\n",
    "y_test_scores = clf1.decision_function(x_test)  # outlier scores\n",
    "y_train_scores = clf1.decision_scores_  # raw outlier scores\n",
    "#print(y_test_scores.shape)\n",
    "y_test_scores = pd.Series(y_test_scores)\n",
    "y_test_pred = clf1.predict(x_test)\n",
    "\n",
    "\n",
    "\n",
    " \n",
    "# Plot it!\n",
    "plt.close()\n",
    "plt.hist(y_test_scores, bins='auto',density=True)  \n",
    "plt.title(\"Histogram for Model Clf1 Anomaly Scores\")\n",
    "\n",
    "plt.show()"
   ]
  },
  {
   "cell_type": "code",
   "execution_count": 21,
   "metadata": {},
   "outputs": [
    {
     "name": "stdout",
     "output_type": "stream",
     "text": [
      "\n",
      "On Training Data:\n",
      "clf_1 ROC:0.6149, precision @ rank n:0.4975\n",
      "\n",
      "On Test Data:\n",
      "clf_1 ROC:0.5891, precision @ rank n:0.4707\n"
     ]
    }
   ],
   "source": [
    "# evaluate and print the results\n",
    "print(\"\\nOn Training Data:\")\n",
    "evaluate_print('clf_1', y_train, y_train_scores)\n",
    "print(\"\\nOn Test Data:\")\n",
    "evaluate_print('clf_1', y_test, y_test_scores)"
   ]
  },
  {
   "cell_type": "code",
   "execution_count": null,
   "metadata": {},
   "outputs": [],
   "source": []
  },
  {
   "cell_type": "code",
   "execution_count": null,
   "metadata": {},
   "outputs": [],
   "source": []
  },
  {
   "cell_type": "code",
   "execution_count": 22,
   "metadata": {},
   "outputs": [
    {
     "data": {
      "image/png": "[encoded data removed]",
      "text/plain": [
       "<Figure size 432x288 with 1 Axes>"
      ]
     },
     "metadata": {
      "needs_background": "light"
     },
     "output_type": "display_data"
    }
   ],
   "source": [
    "\n",
    "pca = PCA(3)\n",
    "x_pca = pca.fit_transform(x_train)\n",
    "x_pca = pd.DataFrame(x_pca)\n",
    "x_pca.columns=['PC1','PC2','PC3']\n",
    "\n",
    "fig = plt.figure()\n",
    "ax = fig.add_subplot(111, projection='3d')\n",
    "ax.set_zlabel(\"x_composite_3\")\n",
    "\n",
    "ax.scatter(x_pca['PC1'], x_pca['PC2'], zs=x_pca['PC3'], s=10, lw=1, label=\"inliers\",c=y_train)# Plot x's for the ground truth outliers\n",
    "# ax.scatter(x_pca['PC1'],x_pca['PC2'], x_pca['PC3'],\n",
    "#            lw=3, s=60, marker=\"x\", c=y_test_scores3, label=\"outliers\")\n",
    "ax.legend()\n",
    "ax.view_init(azim=-160,elev=36)\n",
    "\n",
    "plt.show()\n"
   ]
  },
  {
   "cell_type": "code",
   "execution_count": 23,
   "metadata": {},
   "outputs": [
    {
     "name": "stdout",
     "output_type": "stream",
     "text": [
      "0.331002331002331\n"
     ]
    }
   ],
   "source": [
    "error = 0\n",
    "for i in range(y_test.shape[0]):\n",
    "    if(y_test_pred[i]!=y_test[i]):\n",
    "        error +=1\n",
    "    \n",
    "print(error/y_test.shape[0])\n"
   ]
  },
  {
   "cell_type": "code",
   "execution_count": 24,
   "metadata": {},
   "outputs": [
    {
     "ename": "KeyboardInterrupt",
     "evalue": "",
     "output_type": "error",
     "traceback": [
      "\u001b[1;31m---------------------------------------------------------------------------\u001b[0m",
      "\u001b[1;31mKeyboardInterrupt\u001b[0m                         Traceback (most recent call last)",
      "\u001b[1;32m<ipython-input-24-951ab4134887>\u001b[0m in \u001b[0;36m<module>\u001b[1;34m\u001b[0m\n\u001b[0;32m     14\u001b[0m \u001b[0max3\u001b[0m\u001b[1;33m.\u001b[0m\u001b[0mlegend\u001b[0m\u001b[1;33m(\u001b[0m\u001b[1;33m)\u001b[0m\u001b[1;33m\u001b[0m\u001b[1;33m\u001b[0m\u001b[0m\n\u001b[0;32m     15\u001b[0m \u001b[0max3\u001b[0m\u001b[1;33m.\u001b[0m\u001b[0mview_init\u001b[0m\u001b[1;33m(\u001b[0m\u001b[0mazim\u001b[0m\u001b[1;33m=\u001b[0m\u001b[1;33m-\u001b[0m\u001b[1;36m160\u001b[0m\u001b[1;33m,\u001b[0m\u001b[0melev\u001b[0m\u001b[1;33m=\u001b[0m\u001b[1;36m36\u001b[0m\u001b[1;33m)\u001b[0m\u001b[1;33m\u001b[0m\u001b[1;33m\u001b[0m\u001b[0m\n\u001b[1;32m---> 16\u001b[1;33m \u001b[0mplt\u001b[0m\u001b[1;33m.\u001b[0m\u001b[0mshow\u001b[0m\u001b[1;33m(\u001b[0m\u001b[1;33m)\u001b[0m\u001b[1;33m\u001b[0m\u001b[1;33m\u001b[0m\u001b[0m\n\u001b[0m",
      "\u001b[1;32mC:\\ProgramData\\Anaconda3\\lib\\site-packages\\matplotlib\\pyplot.py\u001b[0m in \u001b[0;36mshow\u001b[1;34m(*args, **kw)\u001b[0m\n\u001b[0;32m    267\u001b[0m     \"\"\"\n\u001b[0;32m    268\u001b[0m     \u001b[1;32mglobal\u001b[0m \u001b[0m_show\u001b[0m\u001b[1;33m\u001b[0m\u001b[1;33m\u001b[0m\u001b[0m\n\u001b[1;32m--> 269\u001b[1;33m     \u001b[1;32mreturn\u001b[0m \u001b[0m_show\u001b[0m\u001b[1;33m(\u001b[0m\u001b[1;33m*\u001b[0m\u001b[0margs\u001b[0m\u001b[1;33m,\u001b[0m \u001b[1;33m**\u001b[0m\u001b[0mkw\u001b[0m\u001b[1;33m)\u001b[0m\u001b[1;33m\u001b[0m\u001b[1;33m\u001b[0m\u001b[0m\n\u001b[0m\u001b[0;32m    270\u001b[0m \u001b[1;33m\u001b[0m\u001b[0m\n\u001b[0;32m    271\u001b[0m \u001b[1;33m\u001b[0m\u001b[0m\n",
      "\u001b[1;32mC:\\ProgramData\\Anaconda3\\lib\\site-packages\\ipykernel\\pylab\\backend_inline.py\u001b[0m in \u001b[0;36mshow\u001b[1;34m(close, block)\u001b[0m\n\u001b[0;32m     37\u001b[0m             display(\n\u001b[0;32m     38\u001b[0m                 \u001b[0mfigure_manager\u001b[0m\u001b[1;33m.\u001b[0m\u001b[0mcanvas\u001b[0m\u001b[1;33m.\u001b[0m\u001b[0mfigure\u001b[0m\u001b[1;33m,\u001b[0m\u001b[1;33m\u001b[0m\u001b[1;33m\u001b[0m\u001b[0m\n\u001b[1;32m---> 39\u001b[1;33m                 \u001b[0mmetadata\u001b[0m\u001b[1;33m=\u001b[0m\u001b[0m_fetch_figure_metadata\u001b[0m\u001b[1;33m(\u001b[0m\u001b[0mfigure_manager\u001b[0m\u001b[1;33m.\u001b[0m\u001b[0mcanvas\u001b[0m\u001b[1;33m.\u001b[0m\u001b[0mfigure\u001b[0m\u001b[1;33m)\u001b[0m\u001b[1;33m\u001b[0m\u001b[1;33m\u001b[0m\u001b[0m\n\u001b[0m\u001b[0;32m     40\u001b[0m             )\n\u001b[0;32m     41\u001b[0m     \u001b[1;32mfinally\u001b[0m\u001b[1;33m:\u001b[0m\u001b[1;33m\u001b[0m\u001b[1;33m\u001b[0m\u001b[0m\n",
      "\u001b[1;32mC:\\ProgramData\\Anaconda3\\lib\\site-packages\\ipykernel\\pylab\\backend_inline.py\u001b[0m in \u001b[0;36m_fetch_figure_metadata\u001b[1;34m(fig)\u001b[0m\n\u001b[0;32m    175\u001b[0m         \u001b[1;31m# the background is transparent\u001b[0m\u001b[1;33m\u001b[0m\u001b[1;33m\u001b[0m\u001b[1;33m\u001b[0m\u001b[0m\n\u001b[0;32m    176\u001b[0m         ticksLight = _is_light([label.get_color()\n\u001b[1;32m--> 177\u001b[1;33m                                 \u001b[1;32mfor\u001b[0m \u001b[0maxes\u001b[0m \u001b[1;32min\u001b[0m \u001b[0mfig\u001b[0m\u001b[1;33m.\u001b[0m\u001b[0maxes\u001b[0m\u001b[1;33m\u001b[0m\u001b[1;33m\u001b[0m\u001b[0m\n\u001b[0m\u001b[0;32m    178\u001b[0m                                 \u001b[1;32mfor\u001b[0m \u001b[0maxis\u001b[0m \u001b[1;32min\u001b[0m \u001b[1;33m(\u001b[0m\u001b[0maxes\u001b[0m\u001b[1;33m.\u001b[0m\u001b[0mxaxis\u001b[0m\u001b[1;33m,\u001b[0m \u001b[0maxes\u001b[0m\u001b[1;33m.\u001b[0m\u001b[0myaxis\u001b[0m\u001b[1;33m)\u001b[0m\u001b[1;33m\u001b[0m\u001b[1;33m\u001b[0m\u001b[0m\n\u001b[0;32m    179\u001b[0m                                 for label in axis.get_ticklabels()])\n",
      "\u001b[1;32mC:\\ProgramData\\Anaconda3\\lib\\site-packages\\ipykernel\\pylab\\backend_inline.py\u001b[0m in \u001b[0;36m<listcomp>\u001b[1;34m(.0)\u001b[0m\n\u001b[0;32m    177\u001b[0m                                 \u001b[1;32mfor\u001b[0m \u001b[0maxes\u001b[0m \u001b[1;32min\u001b[0m \u001b[0mfig\u001b[0m\u001b[1;33m.\u001b[0m\u001b[0maxes\u001b[0m\u001b[1;33m\u001b[0m\u001b[1;33m\u001b[0m\u001b[0m\n\u001b[0;32m    178\u001b[0m                                 \u001b[1;32mfor\u001b[0m \u001b[0maxis\u001b[0m \u001b[1;32min\u001b[0m \u001b[1;33m(\u001b[0m\u001b[0maxes\u001b[0m\u001b[1;33m.\u001b[0m\u001b[0mxaxis\u001b[0m\u001b[1;33m,\u001b[0m \u001b[0maxes\u001b[0m\u001b[1;33m.\u001b[0m\u001b[0myaxis\u001b[0m\u001b[1;33m)\u001b[0m\u001b[1;33m\u001b[0m\u001b[1;33m\u001b[0m\u001b[0m\n\u001b[1;32m--> 179\u001b[1;33m                                 for label in axis.get_ticklabels()])\n\u001b[0m\u001b[0;32m    180\u001b[0m         \u001b[1;32mif\u001b[0m \u001b[0mticksLight\u001b[0m\u001b[1;33m.\u001b[0m\u001b[0msize\u001b[0m \u001b[1;32mand\u001b[0m \u001b[1;33m(\u001b[0m\u001b[0mticksLight\u001b[0m \u001b[1;33m==\u001b[0m \u001b[0mticksLight\u001b[0m\u001b[1;33m[\u001b[0m\u001b[1;36m0\u001b[0m\u001b[1;33m]\u001b[0m\u001b[1;33m)\u001b[0m\u001b[1;33m.\u001b[0m\u001b[0mall\u001b[0m\u001b[1;33m(\u001b[0m\u001b[1;33m)\u001b[0m\u001b[1;33m:\u001b[0m\u001b[1;33m\u001b[0m\u001b[1;33m\u001b[0m\u001b[0m\n\u001b[0;32m    181\u001b[0m             \u001b[1;31m# there are one or more tick labels, all with the same lightness\u001b[0m\u001b[1;33m\u001b[0m\u001b[1;33m\u001b[0m\u001b[1;33m\u001b[0m\u001b[0m\n",
      "\u001b[1;32mC:\\ProgramData\\Anaconda3\\lib\\site-packages\\matplotlib\\axis.py\u001b[0m in \u001b[0;36mget_ticklabels\u001b[1;34m(self, minor, which)\u001b[0m\n\u001b[0;32m   1294\u001b[0m         \u001b[1;32mif\u001b[0m \u001b[0mminor\u001b[0m\u001b[1;33m:\u001b[0m\u001b[1;33m\u001b[0m\u001b[1;33m\u001b[0m\u001b[0m\n\u001b[0;32m   1295\u001b[0m             \u001b[1;32mreturn\u001b[0m \u001b[0mself\u001b[0m\u001b[1;33m.\u001b[0m\u001b[0mget_minorticklabels\u001b[0m\u001b[1;33m(\u001b[0m\u001b[1;33m)\u001b[0m\u001b[1;33m\u001b[0m\u001b[1;33m\u001b[0m\u001b[0m\n\u001b[1;32m-> 1296\u001b[1;33m         \u001b[1;32mreturn\u001b[0m \u001b[0mself\u001b[0m\u001b[1;33m.\u001b[0m\u001b[0mget_majorticklabels\u001b[0m\u001b[1;33m(\u001b[0m\u001b[1;33m)\u001b[0m\u001b[1;33m\u001b[0m\u001b[1;33m\u001b[0m\u001b[0m\n\u001b[0m\u001b[0;32m   1297\u001b[0m \u001b[1;33m\u001b[0m\u001b[0m\n\u001b[0;32m   1298\u001b[0m     \u001b[1;32mdef\u001b[0m \u001b[0mget_majorticklines\u001b[0m\u001b[1;33m(\u001b[0m\u001b[0mself\u001b[0m\u001b[1;33m)\u001b[0m\u001b[1;33m:\u001b[0m\u001b[1;33m\u001b[0m\u001b[1;33m\u001b[0m\u001b[0m\n",
      "\u001b[1;32mC:\\ProgramData\\Anaconda3\\lib\\site-packages\\matplotlib\\axis.py\u001b[0m in \u001b[0;36mget_majorticklabels\u001b[1;34m(self)\u001b[0m\n\u001b[0;32m   1250\u001b[0m     \u001b[1;32mdef\u001b[0m \u001b[0mget_majorticklabels\u001b[0m\u001b[1;33m(\u001b[0m\u001b[0mself\u001b[0m\u001b[1;33m)\u001b[0m\u001b[1;33m:\u001b[0m\u001b[1;33m\u001b[0m\u001b[1;33m\u001b[0m\u001b[0m\n\u001b[0;32m   1251\u001b[0m         \u001b[1;34m'Return a list of Text instances for the major ticklabels.'\u001b[0m\u001b[1;33m\u001b[0m\u001b[1;33m\u001b[0m\u001b[0m\n\u001b[1;32m-> 1252\u001b[1;33m         \u001b[0mticks\u001b[0m \u001b[1;33m=\u001b[0m \u001b[0mself\u001b[0m\u001b[1;33m.\u001b[0m\u001b[0mget_major_ticks\u001b[0m\u001b[1;33m(\u001b[0m\u001b[1;33m)\u001b[0m\u001b[1;33m\u001b[0m\u001b[1;33m\u001b[0m\u001b[0m\n\u001b[0m\u001b[0;32m   1253\u001b[0m         \u001b[0mlabels1\u001b[0m \u001b[1;33m=\u001b[0m \u001b[1;33m[\u001b[0m\u001b[0mtick\u001b[0m\u001b[1;33m.\u001b[0m\u001b[0mlabel1\u001b[0m \u001b[1;32mfor\u001b[0m \u001b[0mtick\u001b[0m \u001b[1;32min\u001b[0m \u001b[0mticks\u001b[0m \u001b[1;32mif\u001b[0m \u001b[0mtick\u001b[0m\u001b[1;33m.\u001b[0m\u001b[0mlabel1\u001b[0m\u001b[1;33m.\u001b[0m\u001b[0mget_visible\u001b[0m\u001b[1;33m(\u001b[0m\u001b[1;33m)\u001b[0m\u001b[1;33m]\u001b[0m\u001b[1;33m\u001b[0m\u001b[1;33m\u001b[0m\u001b[0m\n\u001b[0;32m   1254\u001b[0m         \u001b[0mlabels2\u001b[0m \u001b[1;33m=\u001b[0m \u001b[1;33m[\u001b[0m\u001b[0mtick\u001b[0m\u001b[1;33m.\u001b[0m\u001b[0mlabel2\u001b[0m \u001b[1;32mfor\u001b[0m \u001b[0mtick\u001b[0m \u001b[1;32min\u001b[0m \u001b[0mticks\u001b[0m \u001b[1;32mif\u001b[0m \u001b[0mtick\u001b[0m\u001b[1;33m.\u001b[0m\u001b[0mlabel2\u001b[0m\u001b[1;33m.\u001b[0m\u001b[0mget_visible\u001b[0m\u001b[1;33m(\u001b[0m\u001b[1;33m)\u001b[0m\u001b[1;33m]\u001b[0m\u001b[1;33m\u001b[0m\u001b[1;33m\u001b[0m\u001b[0m\n",
      "\u001b[1;32mC:\\ProgramData\\Anaconda3\\lib\\site-packages\\mpl_toolkits\\mplot3d\\axis3d.py\u001b[0m in \u001b[0;36mget_major_ticks\u001b[1;34m(self, numticks)\u001b[0m\n\u001b[0;32m    143\u001b[0m \u001b[1;33m\u001b[0m\u001b[0m\n\u001b[0;32m    144\u001b[0m     \u001b[1;32mdef\u001b[0m \u001b[0mget_major_ticks\u001b[0m\u001b[1;33m(\u001b[0m\u001b[0mself\u001b[0m\u001b[1;33m,\u001b[0m \u001b[0mnumticks\u001b[0m\u001b[1;33m=\u001b[0m\u001b[1;32mNone\u001b[0m\u001b[1;33m)\u001b[0m\u001b[1;33m:\u001b[0m\u001b[1;33m\u001b[0m\u001b[1;33m\u001b[0m\u001b[0m\n\u001b[1;32m--> 145\u001b[1;33m         \u001b[0mticks\u001b[0m \u001b[1;33m=\u001b[0m \u001b[0mmaxis\u001b[0m\u001b[1;33m.\u001b[0m\u001b[0mXAxis\u001b[0m\u001b[1;33m.\u001b[0m\u001b[0mget_major_ticks\u001b[0m\u001b[1;33m(\u001b[0m\u001b[0mself\u001b[0m\u001b[1;33m,\u001b[0m \u001b[0mnumticks\u001b[0m\u001b[1;33m)\u001b[0m\u001b[1;33m\u001b[0m\u001b[1;33m\u001b[0m\u001b[0m\n\u001b[0m\u001b[0;32m    146\u001b[0m         \u001b[1;32mfor\u001b[0m \u001b[0mt\u001b[0m \u001b[1;32min\u001b[0m \u001b[0mticks\u001b[0m\u001b[1;33m:\u001b[0m\u001b[1;33m\u001b[0m\u001b[1;33m\u001b[0m\u001b[0m\n\u001b[0;32m    147\u001b[0m             \u001b[0mt\u001b[0m\u001b[1;33m.\u001b[0m\u001b[0mtick1line\u001b[0m\u001b[1;33m.\u001b[0m\u001b[0mset_transform\u001b[0m\u001b[1;33m(\u001b[0m\u001b[0mself\u001b[0m\u001b[1;33m.\u001b[0m\u001b[0maxes\u001b[0m\u001b[1;33m.\u001b[0m\u001b[0mtransData\u001b[0m\u001b[1;33m)\u001b[0m\u001b[1;33m\u001b[0m\u001b[1;33m\u001b[0m\u001b[0m\n",
      "\u001b[1;32mC:\\ProgramData\\Anaconda3\\lib\\site-packages\\matplotlib\\axis.py\u001b[0m in \u001b[0;36mget_major_ticks\u001b[1;34m(self, numticks)\u001b[0m\n\u001b[0;32m   1409\u001b[0m         \u001b[1;32mwhile\u001b[0m \u001b[0mlen\u001b[0m\u001b[1;33m(\u001b[0m\u001b[0mself\u001b[0m\u001b[1;33m.\u001b[0m\u001b[0mmajorTicks\u001b[0m\u001b[1;33m)\u001b[0m \u001b[1;33m<\u001b[0m \u001b[0mnumticks\u001b[0m\u001b[1;33m:\u001b[0m\u001b[1;33m\u001b[0m\u001b[1;33m\u001b[0m\u001b[0m\n\u001b[0;32m   1410\u001b[0m             \u001b[1;31m# Update the new tick label properties from the old.\u001b[0m\u001b[1;33m\u001b[0m\u001b[1;33m\u001b[0m\u001b[1;33m\u001b[0m\u001b[0m\n\u001b[1;32m-> 1411\u001b[1;33m             \u001b[0mtick\u001b[0m \u001b[1;33m=\u001b[0m \u001b[0mself\u001b[0m\u001b[1;33m.\u001b[0m\u001b[0m_get_tick\u001b[0m\u001b[1;33m(\u001b[0m\u001b[0mmajor\u001b[0m\u001b[1;33m=\u001b[0m\u001b[1;32mTrue\u001b[0m\u001b[1;33m)\u001b[0m\u001b[1;33m\u001b[0m\u001b[1;33m\u001b[0m\u001b[0m\n\u001b[0m\u001b[0;32m   1412\u001b[0m             \u001b[0mself\u001b[0m\u001b[1;33m.\u001b[0m\u001b[0mmajorTicks\u001b[0m\u001b[1;33m.\u001b[0m\u001b[0mappend\u001b[0m\u001b[1;33m(\u001b[0m\u001b[0mtick\u001b[0m\u001b[1;33m)\u001b[0m\u001b[1;33m\u001b[0m\u001b[1;33m\u001b[0m\u001b[0m\n\u001b[0;32m   1413\u001b[0m             \u001b[0mtick\u001b[0m\u001b[1;33m.\u001b[0m\u001b[0mgridline\u001b[0m\u001b[1;33m.\u001b[0m\u001b[0mset_visible\u001b[0m\u001b[1;33m(\u001b[0m\u001b[0mself\u001b[0m\u001b[1;33m.\u001b[0m\u001b[0m_gridOnMajor\u001b[0m\u001b[1;33m)\u001b[0m\u001b[1;33m\u001b[0m\u001b[1;33m\u001b[0m\u001b[0m\n",
      "\u001b[1;32mC:\\ProgramData\\Anaconda3\\lib\\site-packages\\matplotlib\\axis.py\u001b[0m in \u001b[0;36m_get_tick\u001b[1;34m(self, major)\u001b[0m\n\u001b[0;32m   1931\u001b[0m         \u001b[1;32melse\u001b[0m\u001b[1;33m:\u001b[0m\u001b[1;33m\u001b[0m\u001b[1;33m\u001b[0m\u001b[0m\n\u001b[0;32m   1932\u001b[0m             \u001b[0mtick_kw\u001b[0m \u001b[1;33m=\u001b[0m \u001b[0mself\u001b[0m\u001b[1;33m.\u001b[0m\u001b[0m_minor_tick_kw\u001b[0m\u001b[1;33m\u001b[0m\u001b[1;33m\u001b[0m\u001b[0m\n\u001b[1;32m-> 1933\u001b[1;33m         \u001b[1;32mreturn\u001b[0m \u001b[0mXTick\u001b[0m\u001b[1;33m(\u001b[0m\u001b[0mself\u001b[0m\u001b[1;33m.\u001b[0m\u001b[0maxes\u001b[0m\u001b[1;33m,\u001b[0m \u001b[1;36m0\u001b[0m\u001b[1;33m,\u001b[0m \u001b[1;34m''\u001b[0m\u001b[1;33m,\u001b[0m \u001b[0mmajor\u001b[0m\u001b[1;33m=\u001b[0m\u001b[0mmajor\u001b[0m\u001b[1;33m,\u001b[0m \u001b[1;33m**\u001b[0m\u001b[0mtick_kw\u001b[0m\u001b[1;33m)\u001b[0m\u001b[1;33m\u001b[0m\u001b[1;33m\u001b[0m\u001b[0m\n\u001b[0m\u001b[0;32m   1934\u001b[0m \u001b[1;33m\u001b[0m\u001b[0m\n\u001b[0;32m   1935\u001b[0m     \u001b[1;32mdef\u001b[0m \u001b[0m_get_label\u001b[0m\u001b[1;33m(\u001b[0m\u001b[0mself\u001b[0m\u001b[1;33m)\u001b[0m\u001b[1;33m:\u001b[0m\u001b[1;33m\u001b[0m\u001b[1;33m\u001b[0m\u001b[0m\n",
      "\u001b[1;32mC:\\ProgramData\\Anaconda3\\lib\\site-packages\\matplotlib\\axis.py\u001b[0m in \u001b[0;36m__init__\u001b[1;34m(self, axes, loc, label, size, width, color, tickdir, pad, labelsize, labelcolor, zorder, gridOn, tick1On, tick2On, label1On, label2On, major, labelrotation, grid_color, grid_linestyle, grid_linewidth, grid_alpha, **kw)\u001b[0m\n\u001b[0;32m    157\u001b[0m \u001b[1;33m\u001b[0m\u001b[0m\n\u001b[0;32m    158\u001b[0m         \u001b[0mself\u001b[0m\u001b[1;33m.\u001b[0m\u001b[0mtick1line\u001b[0m \u001b[1;33m=\u001b[0m \u001b[0mself\u001b[0m\u001b[1;33m.\u001b[0m\u001b[0m_get_tick1line\u001b[0m\u001b[1;33m(\u001b[0m\u001b[1;33m)\u001b[0m\u001b[1;33m\u001b[0m\u001b[1;33m\u001b[0m\u001b[0m\n\u001b[1;32m--> 159\u001b[1;33m         \u001b[0mself\u001b[0m\u001b[1;33m.\u001b[0m\u001b[0mtick2line\u001b[0m \u001b[1;33m=\u001b[0m \u001b[0mself\u001b[0m\u001b[1;33m.\u001b[0m\u001b[0m_get_tick2line\u001b[0m\u001b[1;33m(\u001b[0m\u001b[1;33m)\u001b[0m\u001b[1;33m\u001b[0m\u001b[1;33m\u001b[0m\u001b[0m\n\u001b[0m\u001b[0;32m    160\u001b[0m         \u001b[0mself\u001b[0m\u001b[1;33m.\u001b[0m\u001b[0mgridline\u001b[0m \u001b[1;33m=\u001b[0m \u001b[0mself\u001b[0m\u001b[1;33m.\u001b[0m\u001b[0m_get_gridline\u001b[0m\u001b[1;33m(\u001b[0m\u001b[1;33m)\u001b[0m\u001b[1;33m\u001b[0m\u001b[1;33m\u001b[0m\u001b[0m\n\u001b[0;32m    161\u001b[0m         \u001b[0mself\u001b[0m\u001b[1;33m.\u001b[0m\u001b[0mlabel1\u001b[0m \u001b[1;33m=\u001b[0m \u001b[0mself\u001b[0m\u001b[1;33m.\u001b[0m\u001b[0m_get_text1\u001b[0m\u001b[1;33m(\u001b[0m\u001b[1;33m)\u001b[0m\u001b[1;33m\u001b[0m\u001b[1;33m\u001b[0m\u001b[0m\n",
      "\u001b[1;32mC:\\ProgramData\\Anaconda3\\lib\\site-packages\\matplotlib\\axis.py\u001b[0m in \u001b[0;36m_get_tick2line\u001b[1;34m(self)\u001b[0m\n\u001b[0;32m    476\u001b[0m                           \u001b[0mmarkersize\u001b[0m\u001b[1;33m=\u001b[0m\u001b[0mself\u001b[0m\u001b[1;33m.\u001b[0m\u001b[0m_size\u001b[0m\u001b[1;33m,\u001b[0m\u001b[1;33m\u001b[0m\u001b[1;33m\u001b[0m\u001b[0m\n\u001b[0;32m    477\u001b[0m                           \u001b[0mmarkeredgewidth\u001b[0m\u001b[1;33m=\u001b[0m\u001b[0mself\u001b[0m\u001b[1;33m.\u001b[0m\u001b[0m_width\u001b[0m\u001b[1;33m,\u001b[0m\u001b[1;33m\u001b[0m\u001b[1;33m\u001b[0m\u001b[0m\n\u001b[1;32m--> 478\u001b[1;33m                           zorder=self._zorder)\n\u001b[0m\u001b[0;32m    479\u001b[0m \u001b[1;33m\u001b[0m\u001b[0m\n\u001b[0;32m    480\u001b[0m         \u001b[0ml\u001b[0m\u001b[1;33m.\u001b[0m\u001b[0mset_transform\u001b[0m\u001b[1;33m(\u001b[0m\u001b[0mself\u001b[0m\u001b[1;33m.\u001b[0m\u001b[0maxes\u001b[0m\u001b[1;33m.\u001b[0m\u001b[0mget_xaxis_transform\u001b[0m\u001b[1;33m(\u001b[0m\u001b[0mwhich\u001b[0m\u001b[1;33m=\u001b[0m\u001b[1;34m'tick2'\u001b[0m\u001b[1;33m)\u001b[0m\u001b[1;33m)\u001b[0m\u001b[1;33m\u001b[0m\u001b[1;33m\u001b[0m\u001b[0m\n",
      "\u001b[1;32mC:\\ProgramData\\Anaconda3\\lib\\site-packages\\matplotlib\\lines.py\u001b[0m in \u001b[0;36m__init__\u001b[1;34m(self, xdata, ydata, linewidth, linestyle, color, marker, markersize, markeredgewidth, markeredgecolor, markerfacecolor, markerfacecoloralt, fillstyle, antialiased, dash_capstyle, solid_capstyle, dash_joinstyle, solid_joinstyle, pickradius, drawstyle, markevery, **kwargs)\u001b[0m\n\u001b[0;32m    380\u001b[0m         \u001b[0mself\u001b[0m\u001b[1;33m.\u001b[0m\u001b[0m_color\u001b[0m \u001b[1;33m=\u001b[0m \u001b[1;32mNone\u001b[0m\u001b[1;33m\u001b[0m\u001b[1;33m\u001b[0m\u001b[0m\n\u001b[0;32m    381\u001b[0m         \u001b[0mself\u001b[0m\u001b[1;33m.\u001b[0m\u001b[0mset_color\u001b[0m\u001b[1;33m(\u001b[0m\u001b[0mcolor\u001b[0m\u001b[1;33m)\u001b[0m\u001b[1;33m\u001b[0m\u001b[1;33m\u001b[0m\u001b[0m\n\u001b[1;32m--> 382\u001b[1;33m         \u001b[0mself\u001b[0m\u001b[1;33m.\u001b[0m\u001b[0m_marker\u001b[0m \u001b[1;33m=\u001b[0m \u001b[0mMarkerStyle\u001b[0m\u001b[1;33m(\u001b[0m\u001b[0mmarker\u001b[0m\u001b[1;33m,\u001b[0m \u001b[0mfillstyle\u001b[0m\u001b[1;33m)\u001b[0m\u001b[1;33m\u001b[0m\u001b[1;33m\u001b[0m\u001b[0m\n\u001b[0m\u001b[0;32m    383\u001b[0m \u001b[1;33m\u001b[0m\u001b[0m\n\u001b[0;32m    384\u001b[0m         \u001b[0mself\u001b[0m\u001b[1;33m.\u001b[0m\u001b[0m_markevery\u001b[0m \u001b[1;33m=\u001b[0m \u001b[1;32mNone\u001b[0m\u001b[1;33m\u001b[0m\u001b[1;33m\u001b[0m\u001b[0m\n",
      "\u001b[1;32mC:\\ProgramData\\Anaconda3\\lib\\site-packages\\matplotlib\\markers.py\u001b[0m in \u001b[0;36m__init__\u001b[1;34m(self, marker, fillstyle)\u001b[0m\n\u001b[0;32m    241\u001b[0m         \u001b[0mself\u001b[0m\u001b[1;33m.\u001b[0m\u001b[0m_marker_function\u001b[0m \u001b[1;33m=\u001b[0m \u001b[1;32mNone\u001b[0m\u001b[1;33m\u001b[0m\u001b[1;33m\u001b[0m\u001b[0m\n\u001b[0;32m    242\u001b[0m         \u001b[0mself\u001b[0m\u001b[1;33m.\u001b[0m\u001b[0mset_fillstyle\u001b[0m\u001b[1;33m(\u001b[0m\u001b[0mfillstyle\u001b[0m\u001b[1;33m)\u001b[0m\u001b[1;33m\u001b[0m\u001b[1;33m\u001b[0m\u001b[0m\n\u001b[1;32m--> 243\u001b[1;33m         \u001b[0mself\u001b[0m\u001b[1;33m.\u001b[0m\u001b[0mset_marker\u001b[0m\u001b[1;33m(\u001b[0m\u001b[0mmarker\u001b[0m\u001b[1;33m)\u001b[0m\u001b[1;33m\u001b[0m\u001b[1;33m\u001b[0m\u001b[0m\n\u001b[0m\u001b[0;32m    244\u001b[0m \u001b[1;33m\u001b[0m\u001b[0m\n\u001b[0;32m    245\u001b[0m     \u001b[1;32mdef\u001b[0m \u001b[0m_recache\u001b[0m\u001b[1;33m(\u001b[0m\u001b[0mself\u001b[0m\u001b[1;33m)\u001b[0m\u001b[1;33m:\u001b[0m\u001b[1;33m\u001b[0m\u001b[1;33m\u001b[0m\u001b[0m\n",
      "\u001b[1;32mC:\\ProgramData\\Anaconda3\\lib\\site-packages\\matplotlib\\markers.py\u001b[0m in \u001b[0;36mset_marker\u001b[1;34m(self, marker)\u001b[0m\n\u001b[0;32m    314\u001b[0m \u001b[1;33m\u001b[0m\u001b[0m\n\u001b[0;32m    315\u001b[0m         \u001b[0mself\u001b[0m\u001b[1;33m.\u001b[0m\u001b[0m_marker\u001b[0m \u001b[1;33m=\u001b[0m \u001b[0mmarker\u001b[0m\u001b[1;33m\u001b[0m\u001b[1;33m\u001b[0m\u001b[0m\n\u001b[1;32m--> 316\u001b[1;33m         \u001b[0mself\u001b[0m\u001b[1;33m.\u001b[0m\u001b[0m_recache\u001b[0m\u001b[1;33m(\u001b[0m\u001b[1;33m)\u001b[0m\u001b[1;33m\u001b[0m\u001b[1;33m\u001b[0m\u001b[0m\n\u001b[0m\u001b[0;32m    317\u001b[0m \u001b[1;33m\u001b[0m\u001b[0m\n\u001b[0;32m    318\u001b[0m     \u001b[1;32mdef\u001b[0m \u001b[0mget_path\u001b[0m\u001b[1;33m(\u001b[0m\u001b[0mself\u001b[0m\u001b[1;33m)\u001b[0m\u001b[1;33m:\u001b[0m\u001b[1;33m\u001b[0m\u001b[1;33m\u001b[0m\u001b[0m\n",
      "\u001b[1;32mC:\\ProgramData\\Anaconda3\\lib\\site-packages\\matplotlib\\markers.py\u001b[0m in \u001b[0;36m_recache\u001b[1;34m(self)\u001b[0m\n\u001b[0;32m    254\u001b[0m         \u001b[0mself\u001b[0m\u001b[1;33m.\u001b[0m\u001b[0m_capstyle\u001b[0m \u001b[1;33m=\u001b[0m \u001b[1;34m'butt'\u001b[0m\u001b[1;33m\u001b[0m\u001b[1;33m\u001b[0m\u001b[0m\n\u001b[0;32m    255\u001b[0m         \u001b[0mself\u001b[0m\u001b[1;33m.\u001b[0m\u001b[0m_filled\u001b[0m \u001b[1;33m=\u001b[0m \u001b[1;32mTrue\u001b[0m\u001b[1;33m\u001b[0m\u001b[1;33m\u001b[0m\u001b[0m\n\u001b[1;32m--> 256\u001b[1;33m         \u001b[0mself\u001b[0m\u001b[1;33m.\u001b[0m\u001b[0m_marker_function\u001b[0m\u001b[1;33m(\u001b[0m\u001b[1;33m)\u001b[0m\u001b[1;33m\u001b[0m\u001b[1;33m\u001b[0m\u001b[0m\n\u001b[0m\u001b[0;32m    257\u001b[0m \u001b[1;33m\u001b[0m\u001b[0m\n\u001b[0;32m    258\u001b[0m     \u001b[1;32mdef\u001b[0m \u001b[0m__bool__\u001b[0m\u001b[1;33m(\u001b[0m\u001b[0mself\u001b[0m\u001b[1;33m)\u001b[0m\u001b[1;33m:\u001b[0m\u001b[1;33m\u001b[0m\u001b[1;33m\u001b[0m\u001b[0m\n",
      "\u001b[1;32mC:\\ProgramData\\Anaconda3\\lib\\site-packages\\matplotlib\\markers.py\u001b[0m in \u001b[0;36m_set_tickup\u001b[1;34m(self)\u001b[0m\n\u001b[0;32m    761\u001b[0m \u001b[1;33m\u001b[0m\u001b[0m\n\u001b[0;32m    762\u001b[0m     \u001b[1;32mdef\u001b[0m \u001b[0m_set_tickup\u001b[0m\u001b[1;33m(\u001b[0m\u001b[0mself\u001b[0m\u001b[1;33m)\u001b[0m\u001b[1;33m:\u001b[0m\u001b[1;33m\u001b[0m\u001b[1;33m\u001b[0m\u001b[0m\n\u001b[1;32m--> 763\u001b[1;33m         \u001b[0mself\u001b[0m\u001b[1;33m.\u001b[0m\u001b[0m_transform\u001b[0m \u001b[1;33m=\u001b[0m \u001b[0mAffine2D\u001b[0m\u001b[1;33m(\u001b[0m\u001b[1;33m)\u001b[0m\u001b[1;33m.\u001b[0m\u001b[0mscale\u001b[0m\u001b[1;33m(\u001b[0m\u001b[1;36m1.0\u001b[0m\u001b[1;33m,\u001b[0m \u001b[1;36m1.0\u001b[0m\u001b[1;33m)\u001b[0m\u001b[1;33m\u001b[0m\u001b[1;33m\u001b[0m\u001b[0m\n\u001b[0m\u001b[0;32m    764\u001b[0m         \u001b[0mself\u001b[0m\u001b[1;33m.\u001b[0m\u001b[0m_snap_threshold\u001b[0m \u001b[1;33m=\u001b[0m \u001b[1;36m1.0\u001b[0m\u001b[1;33m\u001b[0m\u001b[1;33m\u001b[0m\u001b[0m\n\u001b[0;32m    765\u001b[0m         \u001b[0mself\u001b[0m\u001b[1;33m.\u001b[0m\u001b[0m_filled\u001b[0m \u001b[1;33m=\u001b[0m \u001b[1;32mFalse\u001b[0m\u001b[1;33m\u001b[0m\u001b[1;33m\u001b[0m\u001b[0m\n",
      "\u001b[1;32mC:\\ProgramData\\Anaconda3\\lib\\site-packages\\matplotlib\\transforms.py\u001b[0m in \u001b[0;36mscale\u001b[1;34m(self, sx, sy)\u001b[0m\n\u001b[0;32m   1989\u001b[0m         scale_mtx = np.array(\n\u001b[0;32m   1990\u001b[0m             [[sx, 0.0, 0.0], [0.0, sy, 0.0], [0.0, 0.0, 1.0]], float)\n\u001b[1;32m-> 1991\u001b[1;33m         \u001b[0mself\u001b[0m\u001b[1;33m.\u001b[0m\u001b[0m_mtx\u001b[0m \u001b[1;33m=\u001b[0m \u001b[0mnp\u001b[0m\u001b[1;33m.\u001b[0m\u001b[0mdot\u001b[0m\u001b[1;33m(\u001b[0m\u001b[0mscale_mtx\u001b[0m\u001b[1;33m,\u001b[0m \u001b[0mself\u001b[0m\u001b[1;33m.\u001b[0m\u001b[0m_mtx\u001b[0m\u001b[1;33m)\u001b[0m\u001b[1;33m\u001b[0m\u001b[1;33m\u001b[0m\u001b[0m\n\u001b[0m\u001b[0;32m   1992\u001b[0m         \u001b[0mself\u001b[0m\u001b[1;33m.\u001b[0m\u001b[0minvalidate\u001b[0m\u001b[1;33m(\u001b[0m\u001b[1;33m)\u001b[0m\u001b[1;33m\u001b[0m\u001b[1;33m\u001b[0m\u001b[0m\n\u001b[0;32m   1993\u001b[0m         \u001b[1;32mreturn\u001b[0m \u001b[0mself\u001b[0m\u001b[1;33m\u001b[0m\u001b[1;33m\u001b[0m\u001b[0m\n",
      "\u001b[1;32m<__array_function__ internals>\u001b[0m in \u001b[0;36mdot\u001b[1;34m(*args, **kwargs)\u001b[0m\n",
      "\u001b[1;31mKeyboardInterrupt\u001b[0m: "
     ]
    }
   ],
   "source": [
    "\n",
    "\n",
    "#%matplotlib notebook \n",
    "pca = PCA(3)\n",
    "x_pca = pca.fit_transform(x_test)\n",
    "x_pca = pd.DataFrame(x_pca)\n",
    "x_pca.columns=['PC1','PC2','PC3']\n",
    "\n",
    "fig3 = plt.figure()\n",
    "ax3 = fig3.add_subplot(111, projection='3d')\n",
    "ax3.set_zlabel(\"x_composite_3\")\n",
    "\n",
    "ax3.scatter(x_pca['PC1'], x_pca['PC2'], zs=x_pca['PC3'], s=10, lw=1, label=\"inliers\",c=y_test_pred)# Plot x's for the ground truth outliers\n",
    "# ax.scatter(x_pca['PC1'],x_pca['PC2'], x_pca['PC3'],\n",
    "#            lw=3, s=60, marker=\"x\", c=y_test_scores3, label=\"outliers\")\n",
    "ax3.legend()\n",
    "ax3.view_init(azim=-160,elev=36)\n",
    "plt.show()\n"
   ]
  },
  {
   "cell_type": "code",
   "execution_count": null,
   "metadata": {},
   "outputs": [],
   "source": [
    "df_test = x_test.copy()\n",
    "df_test['score'] = y_test_scores\n",
    "df_test['cluster'] = np.where(df_test['score']<7, 0, 1)\n",
    "print(df_test['cluster'].value_counts())\n",
    "\n",
    "df_test.groupby('cluster').mean()"
   ]
  },
  {
   "cell_type": "code",
   "execution_count": null,
   "metadata": {},
   "outputs": [],
   "source": [
    "clf2 = AutoEncoder(hidden_neurons =[20, 12, 6,  2, 6,  12, 20]\n",
    "                   ,contamination = contam\n",
    "                   ,epochs=epochs\n",
    "                  )\n",
    "clf2.fit(x_train)\n",
    "\n",
    "\n"
   ]
  },
  {
   "cell_type": "code",
   "execution_count": null,
   "metadata": {},
   "outputs": [],
   "source": [
    "\n",
    "# Predict the anomaly scores\n",
    "y_train_pred2 = clf2.labels_\n",
    "y_test_scores2 = clf2.decision_function(x_test2)  \n",
    "\n",
    "y_test_scores2 = pd.Series(y_test_scores2)\n",
    "y_train_scores2 = clf2.decision_scores_  # raw outlier scores\n",
    "y_test_pred2 = clf2.predict(x_test2)\n",
    "\n",
    "\n",
    "\n",
    "plt.hist(y_test_scores2, bins='auto')  \n",
    "plt.title(\"Histogram for Model Clf2 Anomaly Scores\")\n",
    "plt.show()"
   ]
  },
  {
   "cell_type": "code",
   "execution_count": null,
   "metadata": {},
   "outputs": [],
   "source": [
    "# evaluate and print the results\n",
    "print(\"\\nOn Training Data:\")\n",
    "evaluate_print('clf_2', y_train2, y_train_scores2)\n",
    "print(\"\\nOn Test Data:\")\n",
    "evaluate_print('clf_2', y_test2, y_test_scores2)"
   ]
  },
  {
   "cell_type": "code",
   "execution_count": null,
   "metadata": {},
   "outputs": [],
   "source": [
    "\n"
   ]
  },
  {
   "cell_type": "code",
   "execution_count": null,
   "metadata": {},
   "outputs": [],
   "source": [
    "error2 = 0\n",
    "for i in range(y_test2.shape[0]):\n",
    "    if(y_test_pred2[i]!=y_test2[i]):\n",
    "        error2 +=1\n",
    "    \n",
    "print(error2/y_test2.shape[0])\n",
    "error2"
   ]
  },
  {
   "cell_type": "code",
   "execution_count": null,
   "metadata": {},
   "outputs": [],
   "source": [
    "\n",
    "\n",
    "pca = PCA(3)\n",
    "x_pca = pca.fit_transform(x_test2)\n",
    "x_pca = pd.DataFrame(x_pca)\n",
    "x_pca.columns=['PC1','PC2','PC3']\n",
    "\n",
    "fig2 = plt.figure()\n",
    "ax2 = fig2.add_subplot(111, projection='3d')\n",
    "ax2.set_zlabel(\"x_composite_3\")\n",
    "\n",
    "ax2.scatter(x_pca['PC1'], x_pca['PC2'], zs=x_pca['PC3'], s=10, lw=1, label=\"inliers\",c=y_test_pred2)# Plot x's for the ground truth outliers\n",
    "# ax.scatter(x_pca['PC1'],x_pca['PC2'], x_pca['PC3'],\n",
    "#            lw=3, s=60, marker=\"x\", c=y_test_scores3, label=\"outliers\")\n",
    "ax2.legend()\n",
    "ax2.view_init(azim=-160,elev=36)\n",
    "plt.show()\n"
   ]
  },
  {
   "cell_type": "code",
   "execution_count": null,
   "metadata": {},
   "outputs": [],
   "source": [
    "# visualize('clf_2', x_train, y_train, x_test, y_test, y_train_pred,\n",
    "#           y_test_pred, show_figure=True, save_figure=False)"
   ]
  },
  {
   "cell_type": "code",
   "execution_count": null,
   "metadata": {},
   "outputs": [],
   "source": [
    "df_test2 = x_test2.copy()\n",
    "df_test2['score'] = y_test_scores2\n",
    "df_test2['cluster'] = np.where(df_test2['score']<6.5, 0, 1)\n",
    "print(df_test2['cluster'].value_counts())\n",
    "\n",
    "df_test2.groupby('cluster').mean()"
   ]
  },
  {
   "cell_type": "code",
   "execution_count": null,
   "metadata": {},
   "outputs": [],
   "source": [
    "# Step 1: Build the model\n",
    "clf3 = AutoEncoder(hidden_neurons =[\n",
    "  #  100, 50,\n",
    "    25, 1, 25\n",
    "  #  , 50, 100\n",
    "]\n",
    "                   ,contamination = contam\n",
    "                   ,epochs=epochs\n",
    "                  )\n",
    "clf3.fit(x_train)\n",
    "\n"
   ]
  },
  {
   "cell_type": "code",
   "execution_count": null,
   "metadata": {},
   "outputs": [],
   "source": [
    "\n",
    "# Predict the anomaly scores\n",
    "y_train_pred3 = clf3.labels_\n",
    "y_test_scores3 = clf3.decision_function(x_test3)\n",
    "#print(y_test_scores.shape)\n",
    "y_test_scores3 = pd.Series(y_test_scores3)\n",
    "y_train_scores3 = clf3.decision_scores_  # raw outlier scores\n",
    "y_test_pred3 = clf3.predict(x_test3)\n",
    "\n",
    "\n",
    "# Step 2: Determine the cut point\n",
    "plt.hist(y_test_scores3, bins='auto')  \n",
    "plt.title(\"Histogram with Model Clf3 Anomaly Scores\")\n",
    "plt.show()"
   ]
  },
  {
   "cell_type": "code",
   "execution_count": null,
   "metadata": {},
   "outputs": [],
   "source": [
    "# evaluate and print the results\n",
    "print(\"\\nOn Training Data:\")\n",
    "evaluate_print('clf_3', y_train3, y_train_scores3)\n",
    "print(\"\\nOn Test Data:\")\n",
    "evaluate_print('clf_3', y_test3, y_test_scores3)"
   ]
  },
  {
   "cell_type": "code",
   "execution_count": null,
   "metadata": {},
   "outputs": [],
   "source": []
  },
  {
   "cell_type": "code",
   "execution_count": null,
   "metadata": {},
   "outputs": [],
   "source": [
    "\n",
    "pca = PCA(3)\n",
    "x_pca = pca.fit_transform(x_test3)\n",
    "x_pca = pd.DataFrame(x_pca)\n",
    "x_pca.columns=['PC1','PC2','PC3']\n",
    "plt.close()\n",
    "\n",
    "fig = plt.figure()\n",
    "ax = fig.add_subplot(111, projection='3d')\n",
    "ax.set_zlabel(\"x_composite_3\")\n",
    "\n",
    "ax.scatter(x_pca['PC1'], x_pca['PC2'], zs=x_pca['PC3'], s=10, lw=1, label='Score',c=y_test_scores3)# Plot x's for the ground truth outliers\n",
    "# ax.scatter(x_pca['PC1'],x_pca['PC2'], x_pca['PC3'],\n",
    "#            lw=3, s=60, marker=\"x\", c=y_test_scores3, label=\"outliers\")\n",
    "ax.legend()\n",
    "ax.view_init(azim=-160,elev=36)\n",
    "plt.show()\n",
    "\n"
   ]
  },
  {
   "cell_type": "code",
   "execution_count": null,
   "metadata": {},
   "outputs": [],
   "source": []
  },
  {
   "cell_type": "code",
   "execution_count": null,
   "metadata": {},
   "outputs": [],
   "source": []
  },
  {
   "cell_type": "code",
   "execution_count": null,
   "metadata": {},
   "outputs": [],
   "source": []
  },
  {
   "cell_type": "code",
   "execution_count": null,
   "metadata": {},
   "outputs": [],
   "source": [
    "error3 = 0\n",
    "for i in range(y_test3.shape[0]):\n",
    "    if(y_test_pred3[i]!=y_test3[i]):\n",
    "        error3 +=1\n",
    "    \n",
    "print(error3/y_test3.shape[0])\n",
    "error3"
   ]
  },
  {
   "cell_type": "code",
   "execution_count": null,
   "metadata": {},
   "outputs": [],
   "source": [
    "#sns.scatterplot(x=0, y=1, hue=y_test_scores3, data=x_test_full3, palette='RdBu_r');"
   ]
  },
  {
   "cell_type": "code",
   "execution_count": null,
   "metadata": {},
   "outputs": [],
   "source": [
    "# visualize('clf_3', x_train, y_train, x_test, y_test, y_train_pred,\n",
    "#           y_test_pred, show_figure=True, save_figure=False)"
   ]
  },
  {
   "cell_type": "code",
   "execution_count": null,
   "metadata": {
    "scrolled": true
   },
   "outputs": [],
   "source": [
    "df_test3 = x_test3.copy()\n",
    "df_test3['score'] = y_test_scores3\n",
    "df_test3['cluster'] = np.where(df_test3['score']<6.5, 0, 1)\n",
    "print(df_test3['cluster'].value_counts())\n",
    "\n",
    "df_test3.groupby('cluster').mean()"
   ]
  },
  {
   "cell_type": "code",
   "execution_count": null,
   "metadata": {
    "scrolled": false
   },
   "outputs": [],
   "source": [
    "# Put all the predictions in a data frame\n",
    "from pyod.models.combination import aom, moa, average, maximization\n",
    "\n",
    "# Put all the predictions in a data frame\n",
    "train_scores = pd.DataFrame({'clf1': clf1.decision_scores_,\n",
    "                             'clf2': clf2.decision_scores_,\n",
    "                             'clf3': clf3.decision_scores_\n",
    "                            })\n",
    "\n",
    "test_scores  = pd.DataFrame({'clf1': clf1.decision_function(x_test),\n",
    "                             'clf2': clf2.decision_function(x_test2),\n",
    "                             'clf3': clf3.decision_function(x_test3) \n",
    "                            })\n",
    "    "
   ]
  },
  {
   "cell_type": "code",
   "execution_count": null,
   "metadata": {},
   "outputs": [],
   "source": [
    "# Although we did standardization before, it was for the variables.\n",
    "# Now we do the standardization for the decision scores\n",
    "train_scores_norm, test_scores_norm = standardizer(train_scores,test_scores)"
   ]
  },
  {
   "cell_type": "code",
   "execution_count": null,
   "metadata": {},
   "outputs": [],
   "source": [
    "# Combination by average\n",
    "y_by_average = average(test_scores_norm)\n",
    "  \n",
    "\n",
    "  \n",
    "plt.hist(y_by_average, bins='auto')  # arguments are passed to np.histogram\n",
    "plt.title(\"Combination by average\")\n",
    "plt.show()"
   ]
  },
  {
   "cell_type": "code",
   "execution_count": null,
   "metadata": {},
   "outputs": [],
   "source": []
  },
  {
   "cell_type": "code",
   "execution_count": null,
   "metadata": {},
   "outputs": [],
   "source": [
    "\n",
    "\n",
    "# fig = plt.figure()\n",
    "# ax = fig.add_subplot(111, projection='3d')\n",
    "# x, y = np.random.rand(2, 100) * 4\n",
    "\n",
    "# hist, xedges, yedges = np.histogram2d(x_test[0], y_by_maximization, bins=10, range=[[-2, 2.5], [-2, 2.5]])\n",
    "\n",
    "# # Construct arrays for the anchor positions of the 16 bars.\n",
    "# xpos, ypos = np.meshgrid(xedges[:-1] + 0.25, yedges[:-1] + 0.25, indexing=\"ij\")\n",
    "# xpos = xpos.ravel()\n",
    "# ypos = ypos.ravel()\n",
    "# zpos = 0\n",
    "\n",
    "# # Construct arrays with the dimensions for the 16 bars.\n",
    "# dx = dy = 0.5 * np.ones_like(zpos)\n",
    "# dz = hist.ravel()\n",
    "\n",
    "# ax.bar3d(xpos, ypos, zpos, dx, dy, dz, zsort='average')\n",
    "# ax.view_init(azim=-220,elev=36)\n",
    "# plt.show()"
   ]
  },
  {
   "cell_type": "code",
   "execution_count": null,
   "metadata": {},
   "outputs": [],
   "source": [
    "df_test = pd.DataFrame(x_test)\n",
    "df_test['y_by_average_score'] = y_by_average\n",
    "df_test['y_by_average_cluster'] = np.where(df_test['y_by_average_score']<1, 0, 1)\n",
    "print(df_test['y_by_average_cluster'].value_counts())\n",
    "\n",
    "\n",
    "\n",
    "df_test.groupby('y_by_average_cluster').mean()"
   ]
  },
  {
   "cell_type": "code",
   "execution_count": null,
   "metadata": {},
   "outputs": [],
   "source": [
    "# Combination by max\n",
    "y_by_maximization = maximization(test_scores_norm)\n",
    "             \n",
    "\n",
    "plt.hist(y_by_maximization, bins='auto')  # arguments are passed to np.histogram\n",
    "plt.title(\"Combination by max\")\n",
    "plt.show()\n",
    "\n",
    "df_test = pd.DataFrame(x_test)\n",
    "df_test['y_by_maximization_score'] = y_by_maximization\n",
    "df_test['y_by_maximization_cluster'] = np.where(df_test['y_by_maximization_score']<2, 0, 1)\n",
    "print(df_test['y_by_maximization_cluster'].value_counts())\n",
    "\n",
    "df_test.groupby('y_by_maximization_cluster').mean()"
   ]
  },
  {
   "cell_type": "code",
   "execution_count": null,
   "metadata": {},
   "outputs": [],
   "source": [
    "# Combination by aom\n",
    "y_by_aom = median(test_scores_norm)\n",
    "\n",
    "\n",
    "plt.hist(y_by_aom, bins='auto')  # arguments are passed to np.histogram\n",
    "plt.title(\"Average of Maximum\")\n",
    "plt.show()\n",
    "\n",
    "df_test = pd.DataFrame(x_test)\n",
    "df_test['y_by_aom_score'] = y_by_aom\n",
    "df_test['y_by_aom_cluster'] = np.where(df_test['y_by_aom_score']<0.5, 0, 1)\n",
    "print(df_test['y_by_aom_cluster'].value_counts())\n",
    "\n",
    "\n",
    "df_test.groupby('y_by_aom_cluster').mean()"
   ]
  },
  {
   "cell_type": "code",
   "execution_count": null,
   "metadata": {},
   "outputs": [],
   "source": [
    "unique, counts = np.unique(y_test_pred2, return_counts=True)\n",
    "dict(zip(unique, counts))"
   ]
  },
  {
   "cell_type": "code",
   "execution_count": null,
   "metadata": {},
   "outputs": [],
   "source": [
    "unique, counts = np.unique(y_test2, return_counts=True)\n",
    "dict(zip(unique, counts))"
   ]
  },
  {
   "cell_type": "code",
   "execution_count": null,
   "metadata": {},
   "outputs": [],
   "source": []
  },
  {
   "cell_type": "code",
   "execution_count": null,
   "metadata": {},
   "outputs": [],
   "source": []
  },
  {
   "cell_type": "code",
   "execution_count": null,
   "metadata": {},
   "outputs": [],
   "source": []
  }
 ],
 "metadata": {
  "kernelspec": {
   "display_name": "Python 3",
   "language": "python",
   "name": "python3"
  },
  "language_info": {
   "codemirror_mode": {
    "name": "ipython",
    "version": 3
   },
   "file_extension": ".py",
   "mimetype": "text/x-python",
   "name": "python",
   "nbconvert_exporter": "python",
   "pygments_lexer": "ipython3",
   "version": "3.7.6"
  }
 },
 "nbformat": 4,
 "nbformat_minor": 2
}
